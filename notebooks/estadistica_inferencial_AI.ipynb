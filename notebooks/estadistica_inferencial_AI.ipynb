# 1. Generación de datos y contexto del problema

Vamos a simular un estudio sobre el rendimiento académico de estudiantes en función de las horas de estudio semanales.

import numpy as np
import pandas as pd
import matplotlib.pyplot as plt
from scipy import stats
import math
from sklearn.linear_model import LinearRegression

# Creamos una semilla para reproducibilidad
np.random.seed(42)

# Generamos los datos
horas_estudio = np.random.normal(10, 3, 100)      # media 10 horas, desviación 3
puntaje_examen = 40 + horas_estudio * 4 + np.random.normal(0, 5, 100)  # relación con ruido

df = pd.DataFrame({
    'Horas_de_estudio': horas_estudio,
    'Puntaje_en_examen': puntaje_examen
})

df.head()

🧾 Explicación:

Generamos una muestra de 100 estudiantes.

La variable Horas_de_estudio sigue una distribución normal (media=10, sd=3).

El Puntaje_en_examen depende de las horas de estudio con cierta variación aleatoria (ruido).

Esto representa una muestra, no toda la población estudiantil.

# 2. Estimación e Intervalo de Confianza

Queremos estimar el promedio poblacional del puntaje, con un nivel de confianza del 95%.

media = np.mean(puntaje_examen)
desv = np.std(puntaje_examen, ddof=1)
n = len(puntaje_examen)
confianza = 0.95
error = stats.t.ppf((1 + confianza) / 2, n - 1) * (desv / np.sqrt(n))

print(f"Media muestral: {media:.2f}")
print(f"Intervalo de confianza (95%): [{media - error:.2f}, {media + error:.2f}]")

📘 Explicación:

Calculamos la media muestral, la desviación estándar y el intervalo de confianza.

El intervalo nos dice el rango en el que probablemente está el valor real (poblacional) de la media.

🧠 Interpretación:

Si la media muestral es 80.5 y el intervalo de confianza es [79.1, 81.9],
podemos decir con un 95% de confianza que el promedio real del puntaje poblacional está dentro de ese rango.

# 3.  Prueba de Hipótesis

Queremos comprobar si el puntaje promedio poblacional es igual a 80.

t_stat, p_value = stats.ttest_1samp(puntaje_examen, 80)
print(f"T-statistic: {t_stat:.3f}")
print(f"P-value: {p_value:.3f}")

if p_value < 0.05:
    print("❌ Se rechaza H0: la media no es 80.")
else:
    print("✅ No se rechaza H0: la media podría ser 80.")

 Explicación:

H₀ (hipótesis nula): el promedio poblacional = 80

H₁ (alternativa): el promedio es diferente de 80

Si el p-valor < 0.05, se rechaza H₀.

 Interpretación:

Si el p-value = 0.12, significa que no hay evidencia suficiente para decir que la media es diferente de 80.
Por lo tanto, se mantiene la hipótesis de que la media poblacional es 80.

# 4.  Correlación y Covarianza

Queremos ver si aumentar las horas de estudio está relacionado con mejorar los puntajes.

# Correlación
correlacion = df.corr()

# Covarianza
covarianza = np.cov(df['Horas_de_estudio'], df['Puntaje_en_examen'])

print("Matriz de correlación:\n", correlacion, "\n")
print("Matriz de covarianza:\n", covarianza)

📘 Explicación:

La correlación (de Pearson) mide la fuerza y dirección de la relación (entre -1 y 1).

La covarianza indica si las variables cambian juntas, pero depende de las unidades.

🧠 Interpretación:

Si la correlación es 0.85, indica una relación positiva fuerte:
más horas de estudio → mayores puntajes.

La covarianza positiva también confirma esa tendencia.

# 5.  Prueba de Normalidad (Shapiro-Wilk)

Verificamos si los datos siguen una distribución normal, requisito común en IA y estadística inferencial.

shap_horas = stats.shapiro(df['Horas_de_estudio'])
shap_puntaje = stats.shapiro(df['Puntaje_en_examen'])

print(f"P-valor Horas: {shap_horas.pvalue:.3f}")
print(f"P-valor Puntaje: {shap_puntaje.pvalue:.3f}")

Explicación:

H₀: los datos provienen de una distribución normal.

Si p < 0.05, los datos no son normales.

 Interpretación:

Si p = 0.20 para puntajes, no se rechaza H₀ → los datos se pueden considerar normales.
Esto significa que se pueden aplicar métodos inferenciales como el test t o la regresión lineal.

# 6.  Regresión Lineal

Queremos construir un modelo predictivo que relacione las horas de estudio con el puntaje.
Esto conecta la estadística inferencial con la Inteligencia Artificial (aprendizaje supervisado).

X = df[['Horas_de_estudio']]
y = df['Puntaje_en_examen']

modelo = LinearRegression().fit(X, y)
pendiente = modelo.coef_[0]
intercepto = modelo.intercept_

print(f"Modelo: Puntaje = {intercepto:.2f} + {pendiente:.2f} * Horas_de_estudio")

df['Prediccion'] = modelo.predict(X)
df['Residuo'] = df['Puntaje_en_examen'] - df['Prediccion']

# Calcular RMSD
rmsd = math.sqrt(np.mean(df['Residuo']**2))
print(f"RMSD: {rmsd:.3f}")

 Explicación:

Entrenamos un modelo lineal simple con scikit-learn.

La pendiente indica cuánto sube el puntaje por cada hora adicional de estudio.

El RMSD (Root Mean Square Deviation) mide el error promedio del modelo.

Interpretación:

Si el modelo es Puntaje = 40.2 + 3.9 * Horas,
significa que cada hora adicional de estudio aumenta el puntaje en 3.9 puntos promedio.

Si el RMSD es 4.8, el modelo tiene un error promedio de ±4.8 puntos, lo cual es razonable.

# 7.  Visualización del modelo
plt.figure(figsize=(8,6))
plt.scatter(df['Horas_de_estudio'], df['Puntaje_en_examen'], color='skyblue', label='Datos reales')
plt.plot(df['Horas_de_estudio'], df['Prediccion'], color='red', label='Regresión lineal')
plt.xlabel('Horas de estudio semanales')
plt.ylabel('Puntaje en el examen')
plt.title(f'Regresión lineal (RMSD = {rmsd:.2f})')
plt.legend()
plt.grid(True)
plt.show()

Explicación:

La gráfica muestra:

Los puntos reales de la muestra.

La línea roja de regresión ajustada.

Cuanto más se acerquen los puntos a la línea, mejor se ajusta el modelo.

# Conclusiones

La estadística inferencial permitió estimar y verificar propiedades poblacionales (media, intervalos, hipótesis).

Las pruebas estadísticas (t, Shapiro, correlación) mostraron cómo validar supuestos.

La regresión lineal fue el paso hacia el modelado predictivo, base de la inteligencia artificial.

Este ejercicio demuestra cómo los métodos inferenciales se integran al aprendizaje automático para comprender patrones y tomar decisiones basadas en datos.
